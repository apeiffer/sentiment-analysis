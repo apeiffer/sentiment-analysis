{
 "cells": [
  {
   "cell_type": "markdown",
   "metadata": {},
   "source": [
    "# Data Statistics Analysis"
   ]
  },
  {
   "cell_type": "markdown",
   "metadata": {},
   "source": [
    "### Read and Combine Data"
   ]
  },
  {
   "cell_type": "code",
   "execution_count": 8,
   "metadata": {},
   "outputs": [
    {
     "name": "stdout",
     "output_type": "stream",
     "text": [
      "test:  (2000, 2)\n",
      "train:  (16000, 2)\n",
      "val:  (2000, 2)\n",
      "combined:  (20000, 2)\n"
     ]
    }
   ],
   "source": [
    "import pandas as pd\n",
    "\n",
    "# read in all data\n",
    "test = pd.read_csv('../data/test.txt', delimiter=';',names=['text', 'label'])\n",
    "train = pd.read_csv('../data/train.txt', delimiter=';',names=['text', 'label'])\n",
    "val = pd.read_csv('../data/val.txt', delimiter=';',names=['text', 'label'])\n",
    "\n",
    "# display size of splits\n",
    "print('test:     ',test.shape)\n",
    "print('train:    ',train.shape)\n",
    "print('val:      ',val.shape)\n",
    "\n",
    "# combine all data and display size\n",
    "data = pd.concat([test,train,val])\n",
    "print('combined: ',data.shape)"
   ]
  }
 ],
 "metadata": {
  "language_info": {
   "name": "python"
  },
  "orig_nbformat": 4
 },
 "nbformat": 4,
 "nbformat_minor": 2
}
