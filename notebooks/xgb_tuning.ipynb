{
 "cells": [
  {
   "cell_type": "markdown",
   "metadata": {},
   "source": [
    "## Import Required Packages"
   ]
  },
  {
   "cell_type": "code",
   "execution_count": 36,
   "metadata": {},
   "outputs": [],
   "source": [
    "import pandas as pd\n",
    "import numpy as np\n",
    "import xgboost as xgb\n",
    "from xgboost.sklearn import XGBClassifier\n",
    "from sklearn.feature_extraction.text import CountVectorizer\n",
    "import sklearn.metrics as skm\n",
    "from sklearn.model_selection import GridSearchCV\n",
    "import matplotlib.pylab as plt\n",
    "from itertools import cycle\n",
    "from sklearn.metrics import RocCurveDisplay\n",
    "from sklearn.preprocessing import label_binarize\n",
    "from sklearn.preprocessing import LabelEncoder\n",
    "%matplotlib inline\n",
    "\n",
    "classes = ['anger', 'fear', 'joy', 'love', 'sadness', 'surprise']\n"
   ]
  },
  {
   "cell_type": "markdown",
   "metadata": {},
   "source": [
    "## Load Dataset and Generate Features"
   ]
  },
  {
   "cell_type": "code",
   "execution_count": 37,
   "metadata": {},
   "outputs": [],
   "source": [
    "# read in all data\n",
    "test = pd.read_csv('../data/test.txt', delimiter=';', names=['text', 'target'])\n",
    "train = pd.read_csv('../data/train.txt', delimiter=';',\n",
    "                    names=['text', 'target'])\n",
    "val = pd.read_csv('../data/val.txt', delimiter=';', names=['text', 'target'])\n",
    "trainval = pd.concat([train, val])\n",
    "testval = pd.concat([test, val])\n"
   ]
  },
  {
   "cell_type": "code",
   "execution_count": 38,
   "metadata": {},
   "outputs": [
    {
     "name": "stdout",
     "output_type": "stream",
     "text": [
      "Number of Features in BoW:  3397\n"
     ]
    }
   ],
   "source": [
    "# create vectorier for BoW\n",
    "vectorizer = CountVectorizer(\n",
    "    max_df=0.5, min_df=5, stop_words='english', ngram_range=(1, 1))\n",
    "BoW = vectorizer.fit_transform(trainval.text)\n",
    "print('Number of Features in BoW: ', len(vectorizer.get_feature_names_out()))\n",
    "\n",
    "enc = LabelEncoder().fit(\n",
    "    ['anger', 'fear', 'joy', 'love', 'sadness', 'surprise'])\n",
    "\n",
    "# transform all the data\n",
    "X_trainval = vectorizer.transform(trainval.text).toarray()\n",
    "Y_trainval = enc.transform(trainval.target)\n",
    "X_train = vectorizer.transform(train.text).toarray()\n",
    "Y_train = enc.transform(train.target)\n",
    "X_val = vectorizer.transform(val.text).toarray()\n",
    "Y_val = enc.transform(val.target)\n",
    "X_test = vectorizer.transform(test.text).toarray()\n",
    "Y_test = enc.transform(test.target)\n"
   ]
  },
  {
   "cell_type": "markdown",
   "metadata": {},
   "source": [
    "## Functions for Tuning and Evaluation"
   ]
  },
  {
   "cell_type": "code",
   "execution_count": 39,
   "metadata": {},
   "outputs": [],
   "source": [
    "def plot_mc_roc(Y_test_bin, Y_test_proba, n_classes, title='ROC Curve'):\n",
    "    \"\"\" This function takes the results from prediction and generates an ROC\n",
    "        curve for the multiclass problem. It also displays the AUC for each class ROC\n",
    "\n",
    "    Args:\n",
    "        Y_test_bin ([np.array]): [binarized test labels]\n",
    "        Y_test_proba ([np.array]): [test probabilities output form .predict_proba()]\n",
    "        n_classes ([list]): [number of classes in the data]\n",
    "        title (str, optional): [title for plot]. Defaults to 'ROC Curve'.\n",
    "    \"\"\"\n",
    "    ax = plt.axes()\n",
    "    leg = []\n",
    "    auc_sum = 0\n",
    "    for i in range(n_classes):\n",
    "        y_score = Y_test_proba[:, i]\n",
    "        fpr, tpr, _ = skm.roc_curve(Y_test_bin[:, i], y_score)\n",
    "        roc_auc = skm.auc(fpr, tpr)\n",
    "        auc_sum += roc_auc\n",
    "        leg.append(classes[i] + ' (auc = {:.4})'.format(roc_auc))\n",
    "        RocCurveDisplay(fpr=fpr, tpr=tpr).plot(ax=ax)\n",
    "\n",
    "    plt.xlim((0, .4))\n",
    "    plt.ylim((.6, 1))\n",
    "    plt.legend(leg, loc='lower right')\n",
    "    plt.title(title)\n",
    "    \n"
   ]
  },
  {
   "cell_type": "code",
   "execution_count": 40,
   "metadata": {},
   "outputs": [],
   "source": [
    "def fit_model(alg: XGBClassifier, X_train, Y_train, X_test, Y_test, doCV=True, cv_folds=2, early_stopping_rounds=50, title='XGBoost'):\n",
    "    \"\"\" This function fits the model and generates the desired output metrics.\n",
    "        It can optionally perform cross-validation with early stopping to determine\n",
    "        the correct number of estimators for a given model.  \n",
    "\n",
    "    Args:\n",
    "        alg (XGBClassifier): the xgb classifier model to be used\n",
    "        X_train (np.array): training features (including validation set)\n",
    "        Y_train (np.array): training labels (including validation set)\n",
    "        X_test (np.array): test features\n",
    "        Y_test (np.array): test labels\n",
    "        doCV (bool, optional): Determines if cross-val is performed. Defaults to True.\n",
    "        cv_folds (int, optional): number of cv folds to use if doCV is True. Defaults to 3.\n",
    "        early_stopping_rounds (int, optional): early stopping parameter for cv if doCV is true. Defaults to 30.\n",
    "        title (str, optional): title for ROC plot. Defaults to 'XGBoost'.\n",
    "    \"\"\"\n",
    "\n",
    "    if doCV:\n",
    "        evals_result ={}\n",
    "        xgb_param = alg.get_xgb_params()\n",
    "        xgtrain = xgb.DMatrix(X_train,Y_train)\n",
    "        cvresult = xgb.cv(xgb_param, xgtrain, num_boost_round=alg.get_params()['n_estimators'], nfold=cv_folds,\n",
    "                          metrics=['mlogloss'], early_stopping_rounds=early_stopping_rounds, verbose_eval=50)\n",
    "        alg.set_params(n_estimators=cvresult.shape[0])\n",
    "\n",
    "    alg.fit(X_train, Y_train)\n",
    "\n",
    "    Y_test_bin = label_binarize(Y_test, classes=[0, 1, 2, 3, 4, 5])\n",
    "    Y_test_proba = alg.predict_proba(X_test)\n",
    "    Y_train_proba = alg.predict_proba(X_train)\n",
    "    Y_test_pred = alg.predict(X_test)\n",
    "    Y_train_pred = alg.predict(X_train)\n",
    "\n",
    "    print(skm.classification_report(Y_test, Y_test_pred))\n",
    "    print('Train Balanced Accuracy: {:.4}'.format(skm.balanced_accuracy_score(Y_test, Y_test_pred)))\n",
    "    print('Test Balanced Accuracy: {:.4}'.format(skm.balanced_accuracy_score(Y_test, Y_test_pred)))\n",
    "    print('Train micro F1-Sore: {:.4}'.format(skm.f1_score(Y_train, Y_train_pred, average='micro')))\n",
    "    print('Test micro F1-Score: {:.4}'.format(skm.f1_score(Y_test, Y_test_pred, average='micro')))\n",
    "    print('Train Log Loss: {:.4}'.format(skm.log_loss(Y_train, Y_train_proba)))\n",
    "    print('Test Log Loss: {:.4}'.format(skm.log_loss(Y_test, Y_test_proba)))\n",
    "\n",
    "    plot_mc_roc(Y_test_bin, Y_test_proba, n_classes=6,\n",
    "                title='ROC for '+title+' (one-vs-all)')\n",
    "\n"
   ]
  },
  {
   "cell_type": "markdown",
   "metadata": {},
   "source": [
    "## Tuning"
   ]
  },
  {
   "cell_type": "markdown",
   "metadata": {},
   "source": [
    "### N-Estimator Initial Tuning\n",
    "Use cross-validation to select the initial number of trees to use. Learning rate is intentionally set high. It and other parameters will be tuned in future steps after the initial number of estimators is set."
   ]
  },
  {
   "cell_type": "code",
   "execution_count": 41,
   "metadata": {},
   "outputs": [
    {
     "name": "stdout",
     "output_type": "stream",
     "text": [
      "[0]\ttrain-mlogloss:1.65348+0.00146\ttest-mlogloss:1.66723+0.00016\n",
      "[50]\ttrain-mlogloss:0.66212+0.00163\ttest-mlogloss:0.70242+0.00285\n",
      "[100]\ttrain-mlogloss:0.47313+0.00273\ttest-mlogloss:0.52794+0.00553\n",
      "[150]\ttrain-mlogloss:0.37819+0.00279\ttest-mlogloss:0.44992+0.00735\n",
      "[200]\ttrain-mlogloss:0.31811+0.00162\ttest-mlogloss:0.40643+0.00874\n",
      "[250]\ttrain-mlogloss:0.27086+0.00083\ttest-mlogloss:0.37115+0.00886\n",
      "[300]\ttrain-mlogloss:0.23775+0.00197\ttest-mlogloss:0.35037+0.00604\n",
      "[350]\ttrain-mlogloss:0.21234+0.00318\ttest-mlogloss:0.33621+0.00452\n",
      "[400]\ttrain-mlogloss:0.19379+0.00367\ttest-mlogloss:0.32905+0.00483\n",
      "[450]\ttrain-mlogloss:0.17957+0.00400\ttest-mlogloss:0.32555+0.00456\n",
      "[500]\ttrain-mlogloss:0.16862+0.00401\ttest-mlogloss:0.32419+0.00491\n",
      "[550]\ttrain-mlogloss:0.15984+0.00384\ttest-mlogloss:0.32432+0.00513\n",
      "[569]\ttrain-mlogloss:0.15690+0.00402\ttest-mlogloss:0.32466+0.00495\n",
      "              precision    recall  f1-score   support\n",
      "\n",
      "           0       0.91      0.90      0.91       275\n",
      "           1       0.88      0.87      0.87       224\n",
      "           2       0.90      0.92      0.91       695\n",
      "           3       0.74      0.77      0.76       159\n",
      "           4       0.94      0.92      0.93       581\n",
      "           5       0.73      0.70      0.71        66\n",
      "\n",
      "    accuracy                           0.89      2000\n",
      "   macro avg       0.85      0.85      0.85      2000\n",
      "weighted avg       0.89      0.89      0.89      2000\n",
      "\n",
      "Train Balanced Accuracy: 0.8467\n",
      "Test Balanced Accuracy: 0.8467\n",
      "Train micro F1-Sore: 0.9519\n",
      "Test micro F1-Score: 0.8935\n",
      "Train Log Loss: 0.1659\n",
      "Test Log Loss: 0.2724\n"
     ]
    },
    {
     "data": {
      "image/png": "[encoded data removed]",
      "text/plain": [
       "<Figure size 432x288 with 1 Axes>"
      ]
     },
     "metadata": {
      "needs_background": "light"
     },
     "output_type": "display_data"
    }
   ],
   "source": [
    "xgb1 = XGBClassifier(\n",
    "    learning_rate=.3,\n",
    "    n_estimators=10000,\n",
    "    max_depth=5,\n",
    "    min_child_weight=2,\n",
    "    gamma=0,\n",
    "    subsample=.9,\n",
    "    colsample_bytree=.9,\n",
    "    objective='multi:softprob',\n",
    "    num_class=6,\n",
    "    seed=0,\n",
    "    tree_method='hist',\n",
    "    eval_metric='mlogloss',\n",
    "    nthread=-1,\n",
    "    use_label_encoder=False)\n",
    "\n",
    "res = fit_model(xgb1, X_trainval, Y_trainval, X_test, Y_test)\n"
   ]
  },
  {
   "cell_type": "markdown",
   "metadata": {},
   "source": [
    "### Tune `max_depth` and `min_child_weight`\n",
    "\n",
    "We first perform a somewhat coarse tuning to get a sense for the range that each value falls into. Grid search cross validation is used to perform the search in parallel over multiple configurations. For the grid search we use the neg_log_loss score as our scoring parameter because of the unbalanced nature of the dataset being used."
   ]
  },
  {
   "cell_type": "code",
   "execution_count": 42,
   "metadata": {},
   "outputs": [
    {
     "name": "stdout",
     "output_type": "stream",
     "text": [
      "Fitting 2 folds for each of 12 candidates, totalling 24 fits\n",
      "Best Params:  {'max_depth': 5, 'min_child_weight': 1}\n",
      "Best Val F1-Score:  -0.3005519552757318\n",
      "Test micro F1-Score: 0.901\n"
     ]
    }
   ],
   "source": [
    "n_estimators = xgb1.get_params()['n_estimators']\n",
    "\n",
    "gs1_est = XGBClassifier(\n",
    "    learning_rate=.3,\n",
    "    n_estimators=n_estimators,\n",
    "    max_depth=5,\n",
    "    min_child_weight=1,\n",
    "    gamma=0,\n",
    "    subsample=1,\n",
    "    colsample_bytree=1,\n",
    "    objective='multi:softprob',\n",
    "    num_class=6,\n",
    "    seed=0,\n",
    "    tree_method='hist',\n",
    "    eval_metric='mlogloss',\n",
    "    use_label_encoder=False)\n",
    "\n",
    "gs1_params = {\n",
    "    'max_depth':[2, 5, 8, 11],\n",
    "    'min_child_weight':[1, 2, 3]\n",
    "}\n",
    "\n",
    "gs1 = GridSearchCV(estimator=gs1_est, param_grid=gs1_params,\n",
    "                   scoring='neg_log_loss', n_jobs=-1, cv=2, verbose=1)\n",
    "gs1.fit(X_trainval, Y_trainval)\n",
    "\n",
    "print('Best Params: ', gs1.best_params_)\n",
    "print('Best Val F1-Score: ',gs1.best_score_)\n",
    "\n",
    "Y_test_pred = gs1.best_estimator_.predict(X_test)\n",
    "print('Test micro F1-Score: {:.4}'.format(skm.f1_score(Y_test, Y_test_pred, average='micro')))\n"
   ]
  },
  {
   "cell_type": "markdown",
   "metadata": {},
   "source": [
    "**Fine Estimation**\n",
    "\n",
    "Once the first estimation is done we do a finer search around the best parameters found. This provides an even more optimal solution than the one found above."
   ]
  },
  {
   "cell_type": "code",
   "execution_count": 43,
   "metadata": {},
   "outputs": [
    {
     "name": "stdout",
     "output_type": "stream",
     "text": [
      "Fitting 2 folds for each of 9 candidates, totalling 18 fits\n",
      "Best Params:  {'max_depth': 5, 'min_child_weight': 0}\n",
      "Best Val F1-Score:  -0.28561069265486727\n",
      "Test micro F1-Score: 0.8985\n"
     ]
    }
   ],
   "source": [
    "gs2_est = XGBClassifier(\n",
    "    learning_rate=.3,\n",
    "    n_estimators=n_estimators,\n",
    "    max_depth=5,\n",
    "    min_child_weight=1,\n",
    "    gamma=0,\n",
    "    subsample=1,\n",
    "    colsample_bytree=1,\n",
    "    objective='multi:softprob',\n",
    "    num_class=6,\n",
    "    seed=0,\n",
    "    tree_method='hist',\n",
    "    eval_metric='mlogloss',\n",
    "    use_label_encoder=False)\n",
    "\n",
    "md = gs1.best_params_['max_depth']\n",
    "mcw = gs1.best_params_['min_child_weight']\n",
    "\n",
    "gs2_params = {\n",
    "    'max_depth': [md-1, md, md+1],\n",
    "    'min_child_weight': [mcw-1, mcw, mcw+1]\n",
    "}\n",
    "\n",
    "gs2 = GridSearchCV(estimator=gs2_est, param_grid=gs2_params,\n",
    "                   scoring='neg_log_loss', n_jobs=-1, cv=2, verbose=1)\n",
    "gs2.fit(X_trainval, Y_trainval)\n",
    "\n",
    "print('Best Params: ', gs2.best_params_)\n",
    "print('Best Val F1-Score: ', gs2.best_score_)\n",
    "\n",
    "Y_test_pred = gs2.best_estimator_.predict(X_test)\n",
    "print('Test micro F1-Score: {:.4}'.format(skm.f1_score(Y_test, Y_test_pred, average='micro')))\n"
   ]
  },
  {
   "cell_type": "markdown",
   "metadata": {},
   "source": [
    "### Tune `gamma`\n",
    "Gamma is the minimum loss reduction required to make a further partition on the leaf node of a tree. Here we tune gamma using the optimal `max_depth` and `min_child_weight` parameters found in the previous step. Tuning the value of gamma should help overcome overfitting brought on by the high number of features being used."
   ]
  },
  {
   "cell_type": "code",
   "execution_count": 44,
   "metadata": {},
   "outputs": [
    {
     "name": "stdout",
     "output_type": "stream",
     "text": [
      "Fitting 2 folds for each of 4 candidates, totalling 8 fits\n",
      "Best Params:  {'gamma': 0}\n",
      "Best Val F1-Score:  -0.28561069265486727\n",
      "Test Micro F1-Score: 0.8985\n"
     ]
    }
   ],
   "source": [
    "md = gs2.best_params_['max_depth']\n",
    "mcw = gs2.best_params_['min_child_weight']\n",
    "ne = gs2.best_estimator_.get_params()['n_estimators']\n",
    "\n",
    "gs3_est = XGBClassifier(\n",
    "    learning_rate=.3,\n",
    "    n_estimators=ne,\n",
    "    max_depth=md,\n",
    "    min_child_weight=mcw,\n",
    "    gamma=0,\n",
    "    subsample=1,\n",
    "    colsample_bytree=1,\n",
    "    objective='multi:softprob',\n",
    "    num_class=6,\n",
    "    seed=0,\n",
    "    tree_method='hist',\n",
    "    eval_metric='mlogloss',\n",
    "    use_label_encoder=False)\n",
    "\n",
    "gs3_params = {\n",
    "    'gamma': [0, .5, 1, 1.5]\n",
    "}\n",
    "\n",
    "gs3 = GridSearchCV(estimator=gs3_est, param_grid=gs3_params,\n",
    "                   scoring='neg_log_loss', n_jobs=-1, cv=2, verbose=1)\n",
    "gs3.fit(X_trainval, Y_trainval)\n",
    "\n",
    "print('Best Params: ', gs3.best_params_)\n",
    "print('Best Val F1-Score: ', gs3.best_score_)\n",
    "\n",
    "Y_test_pred = gs3.best_estimator_.predict(X_test)\n",
    "print('Test Micro F1-Score: {:.4}'.format(skm.f1_score(Y_test, Y_test_pred, average='micro')))\n"
   ]
  },
  {
   "cell_type": "markdown",
   "metadata": {},
   "source": [
    "**Fine Estimation**\n",
    "\n",
    "Now that we know the approximate best value of `gamma` we will perform a finer search around that value to pick the optimal value of `gamma`."
   ]
  },
  {
   "cell_type": "code",
   "execution_count": 45,
   "metadata": {},
   "outputs": [
    {
     "name": "stdout",
     "output_type": "stream",
     "text": [
      "Fitting 2 folds for each of 7 candidates, totalling 14 fits\n"
     ]
    },
    {
     "name": "stderr",
     "output_type": "stream",
     "text": [
      "C:\\Users\\dstum\\Anaconda3\\lib\\site-packages\\sklearn\\model_selection\\_validation.py:372: FitFailedWarning: \n",
      "6 fits failed out of a total of 14.\n",
      "The score on these train-test partitions for these parameters will be set to nan.\n",
      "If these failures are not expected, you can try to debug them by setting error_score='raise'.\n",
      "\n",
      "Below are more details about the failures:\n",
      "--------------------------------------------------------------------------------\n",
      "2 fits failed with the following error:\n",
      "Traceback (most recent call last):\n",
      "  File \"C:\\Users\\dstum\\Anaconda3\\lib\\site-packages\\sklearn\\model_selection\\_validation.py\", line 681, in _fit_and_score\n",
      "    estimator.fit(X_train, y_train, **fit_params)\n",
      "  File \"C:\\Users\\dstum\\Anaconda3\\lib\\site-packages\\xgboost\\core.py\", line 506, in inner_f\n",
      "    return f(**kwargs)\n",
      "  File \"C:\\Users\\dstum\\Anaconda3\\lib\\site-packages\\xgboost\\sklearn.py\", line 1261, in fit\n",
      "    callbacks=callbacks,\n",
      "  File \"C:\\Users\\dstum\\Anaconda3\\lib\\site-packages\\xgboost\\training.py\", line 196, in train\n",
      "    early_stopping_rounds=early_stopping_rounds)\n",
      "  File \"C:\\Users\\dstum\\Anaconda3\\lib\\site-packages\\xgboost\\training.py\", line 81, in _train_internal\n",
      "    bst.update(dtrain, i, obj)\n",
      "  File \"C:\\Users\\dstum\\Anaconda3\\lib\\site-packages\\xgboost\\core.py\", line 1682, in update\n",
      "    dtrain.handle))\n",
      "  File \"C:\\Users\\dstum\\Anaconda3\\lib\\site-packages\\xgboost\\core.py\", line 218, in _check_call\n",
      "    raise XGBoostError(py_str(_LIB.XGBGetLastError()))\n",
      "xgboost.core.XGBoostError: value -0.3 for Parameter min_split_loss should be greater equal to 0\n",
      "min_split_loss: Minimum loss reduction required to make a further partition.\n",
      "\n",
      "--------------------------------------------------------------------------------\n",
      "2 fits failed with the following error:\n",
      "Traceback (most recent call last):\n",
      "  File \"C:\\Users\\dstum\\Anaconda3\\lib\\site-packages\\sklearn\\model_selection\\_validation.py\", line 681, in _fit_and_score\n",
      "    estimator.fit(X_train, y_train, **fit_params)\n",
      "  File \"C:\\Users\\dstum\\Anaconda3\\lib\\site-packages\\xgboost\\core.py\", line 506, in inner_f\n",
      "    return f(**kwargs)\n",
      "  File \"C:\\Users\\dstum\\Anaconda3\\lib\\site-packages\\xgboost\\sklearn.py\", line 1261, in fit\n",
      "    callbacks=callbacks,\n",
      "  File \"C:\\Users\\dstum\\Anaconda3\\lib\\site-packages\\xgboost\\training.py\", line 196, in train\n",
      "    early_stopping_rounds=early_stopping_rounds)\n",
      "  File \"C:\\Users\\dstum\\Anaconda3\\lib\\site-packages\\xgboost\\training.py\", line 81, in _train_internal\n",
      "    bst.update(dtrain, i, obj)\n",
      "  File \"C:\\Users\\dstum\\Anaconda3\\lib\\site-packages\\xgboost\\core.py\", line 1682, in update\n",
      "    dtrain.handle))\n",
      "  File \"C:\\Users\\dstum\\Anaconda3\\lib\\site-packages\\xgboost\\core.py\", line 218, in _check_call\n",
      "    raise XGBoostError(py_str(_LIB.XGBGetLastError()))\n",
      "xgboost.core.XGBoostError: value -0.2 for Parameter min_split_loss should be greater equal to 0\n",
      "min_split_loss: Minimum loss reduction required to make a further partition.\n",
      "\n",
      "--------------------------------------------------------------------------------\n",
      "2 fits failed with the following error:\n",
      "Traceback (most recent call last):\n",
      "  File \"C:\\Users\\dstum\\Anaconda3\\lib\\site-packages\\sklearn\\model_selection\\_validation.py\", line 681, in _fit_and_score\n",
      "    estimator.fit(X_train, y_train, **fit_params)\n",
      "  File \"C:\\Users\\dstum\\Anaconda3\\lib\\site-packages\\xgboost\\core.py\", line 506, in inner_f\n",
      "    return f(**kwargs)\n",
      "  File \"C:\\Users\\dstum\\Anaconda3\\lib\\site-packages\\xgboost\\sklearn.py\", line 1261, in fit\n",
      "    callbacks=callbacks,\n",
      "  File \"C:\\Users\\dstum\\Anaconda3\\lib\\site-packages\\xgboost\\training.py\", line 196, in train\n",
      "    early_stopping_rounds=early_stopping_rounds)\n",
      "  File \"C:\\Users\\dstum\\Anaconda3\\lib\\site-packages\\xgboost\\training.py\", line 81, in _train_internal\n",
      "    bst.update(dtrain, i, obj)\n",
      "  File \"C:\\Users\\dstum\\Anaconda3\\lib\\site-packages\\xgboost\\core.py\", line 1682, in update\n",
      "    dtrain.handle))\n",
      "  File \"C:\\Users\\dstum\\Anaconda3\\lib\\site-packages\\xgboost\\core.py\", line 218, in _check_call\n",
      "    raise XGBoostError(py_str(_LIB.XGBGetLastError()))\n",
      "xgboost.core.XGBoostError: value -0.1 for Parameter min_split_loss should be greater equal to 0\n",
      "min_split_loss: Minimum loss reduction required to make a further partition.\n",
      "\n",
      "  warnings.warn(some_fits_failed_message, FitFailedWarning)\n",
      "C:\\Users\\dstum\\Anaconda3\\lib\\site-packages\\sklearn\\model_selection\\_search.py:972: UserWarning: One or more of the test scores are non-finite: [        nan         nan         nan -0.28561069 -0.28129316 -0.27781026\n",
      " -0.27843307]\n",
      "  category=UserWarning,\n"
     ]
    },
    {
     "name": "stdout",
     "output_type": "stream",
     "text": [
      "Best Params:  {'gamma': 0.2}\n",
      "Best Val F1-Score:  -0.27781025770619955\n",
      "Test micro F1-Score: 0.8975\n"
     ]
    }
   ],
   "source": [
    "gs4_est = XGBClassifier(\n",
    "    learning_rate=.3,\n",
    "    n_estimators=ne,\n",
    "    max_depth=md,\n",
    "    min_child_weight=mcw,\n",
    "    gamma=0,\n",
    "    subsample=1,\n",
    "    colsample_bytree=1,\n",
    "    objective='multi:softprob',\n",
    "    num_class=6,\n",
    "    seed=0,\n",
    "    tree_method='hist',\n",
    "    eval_metric='mlogloss',\n",
    "    use_label_encoder=False)\n",
    "\n",
    "g = gs3.best_params_['gamma']\n",
    "\n",
    "gs4_params = {\n",
    "    'gamma': [g-.3, g-.2, g-.1, g, g+.1, g+.2, g+.3]\n",
    "}\n",
    "\n",
    "gs4 = GridSearchCV(estimator=gs4_est, param_grid=gs4_params,\n",
    "                   scoring='neg_log_loss', n_jobs=-1, cv=2, verbose=1)\n",
    "gs4.fit(X_trainval, Y_trainval)\n",
    "\n",
    "print('Best Params: ', gs4.best_params_)\n",
    "print('Best Val F1-Score: ', gs4.best_score_)\n",
    "\n",
    "Y_test_pred = gs4.best_estimator_.predict(X_test)\n",
    "print('Test micro F1-Score: {:.4}'.format(skm.f1_score(Y_test, Y_test_pred, average='micro')))\n"
   ]
  },
  {
   "cell_type": "code",
   "execution_count": 46,
   "metadata": {},
   "outputs": [
    {
     "name": "stdout",
     "output_type": "stream",
     "text": [
      "[0]\ttrain-mlogloss:1.64617+0.00105\ttest-mlogloss:1.66111+0.00050\n",
      "[50]\ttrain-mlogloss:0.60588+0.00376\ttest-mlogloss:0.67874+0.00082\n",
      "[100]\ttrain-mlogloss:0.40026+0.00437\ttest-mlogloss:0.49485+0.00028\n",
      "[150]\ttrain-mlogloss:0.29882+0.00322\ttest-mlogloss:0.40831+0.00050\n",
      "[200]\ttrain-mlogloss:0.23907+0.00272\ttest-mlogloss:0.36032+0.00109\n",
      "[250]\ttrain-mlogloss:0.19960+0.00196\ttest-mlogloss:0.33135+0.00281\n",
      "[300]\ttrain-mlogloss:0.17164+0.00149\ttest-mlogloss:0.31201+0.00336\n",
      "[350]\ttrain-mlogloss:0.15129+0.00162\ttest-mlogloss:0.29875+0.00455\n",
      "[400]\ttrain-mlogloss:0.13614+0.00173\ttest-mlogloss:0.28987+0.00496\n",
      "[450]\ttrain-mlogloss:0.12512+0.00159\ttest-mlogloss:0.28349+0.00516\n",
      "[500]\ttrain-mlogloss:0.11763+0.00182\ttest-mlogloss:0.27886+0.00512\n",
      "[550]\ttrain-mlogloss:0.11200+0.00172\ttest-mlogloss:0.27583+0.00471\n",
      "[600]\ttrain-mlogloss:0.10700+0.00164\ttest-mlogloss:0.27308+0.00481\n",
      "[650]\ttrain-mlogloss:0.10316+0.00154\ttest-mlogloss:0.27150+0.00447\n",
      "[700]\ttrain-mlogloss:0.10202+0.00126\ttest-mlogloss:0.27119+0.00453\n",
      "[737]\ttrain-mlogloss:0.10202+0.00126\ttest-mlogloss:0.27119+0.00453\n",
      "              precision    recall  f1-score   support\n",
      "\n",
      "           0       0.93      0.89      0.91       275\n",
      "           1       0.88      0.89      0.89       224\n",
      "           2       0.91      0.92      0.91       695\n",
      "           3       0.74      0.78      0.76       159\n",
      "           4       0.95      0.93      0.94       581\n",
      "           5       0.71      0.71      0.71        66\n",
      "\n",
      "    accuracy                           0.90      2000\n",
      "   macro avg       0.85      0.85      0.85      2000\n",
      "weighted avg       0.90      0.90      0.90      2000\n",
      "\n",
      "Train Balanced Accuracy: 0.8543\n",
      "Test Balanced Accuracy: 0.8543\n",
      "Train micro F1-Sore: 0.9832\n",
      "Test micro F1-Score: 0.898\n",
      "Train Log Loss: 0.1008\n",
      "Test Log Loss: 0.2474\n"
     ]
    },
    {
     "data": {
      "image/png": "[encoded data removed]",
      "text/plain": [
       "<Figure size 432x288 with 1 Axes>"
      ]
     },
     "metadata": {
      "needs_background": "light"
     },
     "output_type": "display_data"
    }
   ],
   "source": [
    "md = gs4.best_estimator_.get_params()['max_depth']\n",
    "mcw = gs4.best_estimator_.get_params()['min_child_weight']\n",
    "ne = gs4.best_estimator_.get_params()['n_estimators']\n",
    "g = gs4.best_estimator_.get_params()['gamma']\n",
    "subsamp = gs4.best_estimator_.get_params()['subsample']\n",
    "colsamp = gs4.best_estimator_.get_params()['colsample_bytree']\n",
    "lam = gs4.best_estimator_.get_params()['reg_lambda']\n",
    "\n",
    "partial_tuned = XGBClassifier(\n",
    "    learning_rate=.3,\n",
    "    n_estimators=100000,\n",
    "    max_depth=md,\n",
    "    min_child_weight=mcw,\n",
    "    gamma=g,\n",
    "    subsample=subsamp,\n",
    "    colsample_bytree=colsamp,\n",
    "    objective='multi:softprob',\n",
    "    num_class=6,\n",
    "    reg_lambda=lam,\n",
    "    seed=0,\n",
    "    tree_method='hist',\n",
    "    eval_metric='mlogloss',\n",
    "    use_label_encoder=False)\n",
    "\n",
    "\n",
    "fit_model(partial_tuned, X_trainval, Y_trainval,\n",
    "          X_test, Y_test, title='Tuned XGBoost')\n"
   ]
  },
  {
   "cell_type": "markdown",
   "metadata": {},
   "source": [
    "### Tune `colsample_bytree` and `subsample`"
   ]
  },
  {
   "cell_type": "code",
   "execution_count": 48,
   "metadata": {},
   "outputs": [
    {
     "name": "stdout",
     "output_type": "stream",
     "text": [
      "Fitting 2 folds for each of 16 candidates, totalling 32 fits\n",
      "Best Params:  {'colsample_bytree': 0.7, 'subsample': 1}\n",
      "Best Val F1-Score:  -0.2713938150515885\n",
      "Test Micro F1-Score: 0.897\n"
     ]
    }
   ],
   "source": [
    "md = partial_tuned.get_params()['max_depth']\n",
    "mcw = partial_tuned.get_params()['min_child_weight']\n",
    "ne = partial_tuned.get_params()['n_estimators']\n",
    "g = partial_tuned.get_params()['gamma']\n",
    "\n",
    "gs5_est = XGBClassifier(\n",
    "    learning_rate=.3,\n",
    "    n_estimators=ne,\n",
    "    max_depth=md,\n",
    "    min_child_weight=mcw,\n",
    "    gamma=g,\n",
    "    subsample=1,\n",
    "    colsample_bytree=1,\n",
    "    objective='multi:softprob',\n",
    "    num_class=6,\n",
    "    seed=0,\n",
    "    tree_method='hist',\n",
    "    eval_metric='mlogloss',\n",
    "    use_label_encoder=False)\n",
    "\n",
    "gs5_params = {\n",
    "    'subsample': [.7, .8, .9, 1],\n",
    "    'colsample_bytree': [.7, .8, .9, 1]\n",
    "}\n",
    "\n",
    "gs5 = GridSearchCV(estimator=gs5_est, param_grid=gs5_params,\n",
    "                   scoring='neg_log_loss', n_jobs=-1, cv=2, verbose=1)\n",
    "gs5.fit(X_trainval, Y_trainval)\n",
    "\n",
    "print('Best Params: ', gs5.best_params_)\n",
    "print('Best Val F1-Score: ', gs5.best_score_)\n",
    "\n",
    "Y_test_pred = gs5.best_estimator_.predict(X_test)\n",
    "print('Test Micro F1-Score: {:.4}'.format(skm.f1_score(Y_test, Y_test_pred, average='micro')))\n"
   ]
  },
  {
   "cell_type": "markdown",
   "metadata": {},
   "source": [
    "### Tune `reg_lambda`\n",
    "\n",
    "`reg_lambda` controls the L2 regularization term on the weights. Tuning this could help with overfitting and will make the model more conservative. The default is set at 1. We don't want any less regularization because it could lead to further overfitting. We will exclusively look at values larger than the default."
   ]
  },
  {
   "cell_type": "code",
   "execution_count": 49,
   "metadata": {},
   "outputs": [
    {
     "name": "stdout",
     "output_type": "stream",
     "text": [
      "Fitting 2 folds for each of 4 candidates, totalling 8 fits\n",
      "Best Params:  {'reg_lambda': 1}\n",
      "Best Val F1-Score:  -0.2713938150515885\n",
      "Test Micro F1-Score: 0.897\n"
     ]
    }
   ],
   "source": [
    "md = gs5.best_estimator_.get_params()['max_depth']\n",
    "mcw = gs5.best_estimator_.get_params()['min_child_weight']\n",
    "ne = gs5.best_estimator_.get_params()['n_estimators']\n",
    "g = gs5.best_estimator_.get_params()['gamma']\n",
    "subsamp = gs5.best_estimator_.get_params()['subsample']\n",
    "colsamp = gs5.best_estimator_.get_params()['colsample_bytree']\n",
    "\n",
    "gs6_est = XGBClassifier(\n",
    "    learning_rate=.3,\n",
    "    n_estimators=ne,\n",
    "    max_depth=md,\n",
    "    min_child_weight=mcw,\n",
    "    gamma=g,\n",
    "    subsample=subsamp,\n",
    "    colsample_bytree=colsamp,\n",
    "    objective='multi:softprob',\n",
    "    num_class=6,\n",
    "    seed=0,\n",
    "    tree_method='hist',\n",
    "    eval_metric='mlogloss',\n",
    "    use_label_encoder=False)\n",
    "\n",
    "gs6_params = {\n",
    "    'reg_lambda':[1, 10, 25, 50] \n",
    "}\n",
    "\n",
    "gs6 = GridSearchCV(estimator=gs6_est, param_grid=gs6_params,\n",
    "                   scoring='neg_log_loss', n_jobs=-1, cv=2, verbose=1)\n",
    "gs6.fit(X_trainval, Y_trainval)\n",
    "\n",
    "print('Best Params: ', gs6.best_params_)\n",
    "print('Best Val F1-Score: ', gs6.best_score_)\n",
    "\n",
    "Y_test_pred = gs6.best_estimator_.predict(X_test)\n",
    "print('Test Micro F1-Score: {:.4}'.format(skm.f1_score(Y_test, Y_test_pred, average='micro')))\n"
   ]
  },
  {
   "cell_type": "markdown",
   "metadata": {},
   "source": [
    "### Update `learning_rate` and `n_estimators`\n",
    "\n",
    "Now that the parameters of interest have been properly tuned, we reduce the learning rate and re-evaluate the optimal value of `n_estimators` to use in the model. It is expected that the value will be higher then the original value found.\n",
    "\n",
    "We then evaluate the model and display the final tuned results."
   ]
  },
  {
   "cell_type": "code",
   "execution_count": 57,
   "metadata": {},
   "outputs": [
    {
     "name": "stdout",
     "output_type": "stream",
     "text": [
      "[0]\ttrain-mlogloss:1.71788+0.00065\ttest-mlogloss:1.72457+0.00092\n",
      "[50]\ttrain-mlogloss:0.86313+0.00378\ttest-mlogloss:0.91647+0.00128\n",
      "[100]\ttrain-mlogloss:0.63296+0.00408\ttest-mlogloss:0.70149+0.00145\n",
      "[150]\ttrain-mlogloss:0.50265+0.00397\ttest-mlogloss:0.58282+0.00126\n",
      "[200]\ttrain-mlogloss:0.41695+0.00424\ttest-mlogloss:0.50677+0.00055\n",
      "[250]\ttrain-mlogloss:0.35624+0.00434\ttest-mlogloss:0.45345+0.00015\n",
      "[300]\ttrain-mlogloss:0.31088+0.00367\ttest-mlogloss:0.41505+0.00023\n",
      "[350]\ttrain-mlogloss:0.27603+0.00299\ttest-mlogloss:0.38645+0.00061\n",
      "[400]\ttrain-mlogloss:0.24853+0.00254\ttest-mlogloss:0.36433+0.00161\n",
      "[450]\ttrain-mlogloss:0.22647+0.00243\ttest-mlogloss:0.34701+0.00226\n",
      "[500]\ttrain-mlogloss:0.20801+0.00221\ttest-mlogloss:0.33329+0.00292\n",
      "[550]\ttrain-mlogloss:0.19227+0.00204\ttest-mlogloss:0.32242+0.00339\n",
      "[600]\ttrain-mlogloss:0.17877+0.00182\ttest-mlogloss:0.31301+0.00399\n",
      "[650]\ttrain-mlogloss:0.16705+0.00161\ttest-mlogloss:0.30546+0.00438\n",
      "[700]\ttrain-mlogloss:0.15736+0.00145\ttest-mlogloss:0.29927+0.00463\n",
      "[750]\ttrain-mlogloss:0.14881+0.00134\ttest-mlogloss:0.29377+0.00467\n",
      "[800]\ttrain-mlogloss:0.14129+0.00140\ttest-mlogloss:0.28946+0.00494\n",
      "[850]\ttrain-mlogloss:0.13487+0.00149\ttest-mlogloss:0.28573+0.00521\n",
      "[900]\ttrain-mlogloss:0.12949+0.00142\ttest-mlogloss:0.28272+0.00508\n",
      "[950]\ttrain-mlogloss:0.12504+0.00137\ttest-mlogloss:0.28005+0.00519\n",
      "[1000]\ttrain-mlogloss:0.12122+0.00132\ttest-mlogloss:0.27788+0.00518\n",
      "[1050]\ttrain-mlogloss:0.11810+0.00132\ttest-mlogloss:0.27617+0.00514\n",
      "[1100]\ttrain-mlogloss:0.11521+0.00131\ttest-mlogloss:0.27456+0.00510\n",
      "[1150]\ttrain-mlogloss:0.11254+0.00123\ttest-mlogloss:0.27297+0.00509\n",
      "[1200]\ttrain-mlogloss:0.11016+0.00119\ttest-mlogloss:0.27193+0.00493\n",
      "[1250]\ttrain-mlogloss:0.10790+0.00116\ttest-mlogloss:0.27092+0.00483\n",
      "[1300]\ttrain-mlogloss:0.10608+0.00115\ttest-mlogloss:0.27020+0.00481\n",
      "[1350]\ttrain-mlogloss:0.10451+0.00111\ttest-mlogloss:0.26961+0.00471\n",
      "[1400]\ttrain-mlogloss:0.10410+0.00122\ttest-mlogloss:0.26940+0.00463\n",
      "[1450]\ttrain-mlogloss:0.10406+0.00123\ttest-mlogloss:0.26938+0.00462\n",
      "[1500]\ttrain-mlogloss:0.10389+0.00114\ttest-mlogloss:0.26936+0.00464\n",
      "[1550]\ttrain-mlogloss:0.10385+0.00113\ttest-mlogloss:0.26934+0.00464\n",
      "[1600]\ttrain-mlogloss:0.10376+0.00119\ttest-mlogloss:0.26929+0.00464\n",
      "[1650]\ttrain-mlogloss:0.10349+0.00120\ttest-mlogloss:0.26916+0.00464\n",
      "[1700]\ttrain-mlogloss:0.10335+0.00108\ttest-mlogloss:0.26906+0.00471\n",
      "[1750]\ttrain-mlogloss:0.10310+0.00109\ttest-mlogloss:0.26900+0.00471\n",
      "[1800]\ttrain-mlogloss:0.10275+0.00126\ttest-mlogloss:0.26890+0.00468\n",
      "[1839]\ttrain-mlogloss:0.10271+0.00127\ttest-mlogloss:0.26888+0.00467\n",
      "              precision    recall  f1-score   support\n",
      "\n",
      "           0       0.94      0.90      0.92       275\n",
      "           1       0.88      0.90      0.89       224\n",
      "           2       0.91      0.92      0.91       695\n",
      "           3       0.73      0.78      0.75       159\n",
      "           4       0.95      0.93      0.94       581\n",
      "           5       0.75      0.73      0.74        66\n",
      "\n",
      "    accuracy                           0.90      2000\n",
      "   macro avg       0.86      0.86      0.86      2000\n",
      "weighted avg       0.90      0.90      0.90      2000\n",
      "\n",
      "Train Balanced Accuracy: 0.8586\n",
      "Test Balanced Accuracy: 0.8586\n",
      "Train micro F1-Sore: 0.9864\n",
      "Test micro F1-Score: 0.8995\n",
      "Train Log Loss: 0.09233\n",
      "Test Log Loss: 0.2453\n",
      "-------- Final Tuned Parameters --------\n"
     ]
    },
    {
     "data": {
      "text/html": [
       "<div>\n",
       "<style scoped>\n",
       "    .dataframe tbody tr th:only-of-type {\n",
       "        vertical-align: middle;\n",
       "    }\n",
       "\n",
       "    .dataframe tbody tr th {\n",
       "        vertical-align: top;\n",
       "    }\n",
       "\n",
       "    .dataframe thead th {\n",
       "        text-align: right;\n",
       "    }\n",
       "</style>\n",
       "<table border=\"1\" class=\"dataframe\">\n",
       "  <thead>\n",
       "    <tr style=\"text-align: right;\">\n",
       "      <th></th>\n",
       "      <th>0</th>\n",
       "    </tr>\n",
       "  </thead>\n",
       "  <tbody>\n",
       "    <tr>\n",
       "      <th>objective</th>\n",
       "      <td>multi:softprob</td>\n",
       "    </tr>\n",
       "    <tr>\n",
       "      <th>use_label_encoder</th>\n",
       "      <td>False</td>\n",
       "    </tr>\n",
       "    <tr>\n",
       "      <th>base_score</th>\n",
       "      <td>0.5</td>\n",
       "    </tr>\n",
       "    <tr>\n",
       "      <th>booster</th>\n",
       "      <td>gbtree</td>\n",
       "    </tr>\n",
       "    <tr>\n",
       "      <th>colsample_bylevel</th>\n",
       "      <td>1</td>\n",
       "    </tr>\n",
       "    <tr>\n",
       "      <th>colsample_bynode</th>\n",
       "      <td>1</td>\n",
       "    </tr>\n",
       "    <tr>\n",
       "      <th>colsample_bytree</th>\n",
       "      <td>0.7</td>\n",
       "    </tr>\n",
       "    <tr>\n",
       "      <th>enable_categorical</th>\n",
       "      <td>False</td>\n",
       "    </tr>\n",
       "    <tr>\n",
       "      <th>gamma</th>\n",
       "      <td>0.2</td>\n",
       "    </tr>\n",
       "    <tr>\n",
       "      <th>gpu_id</th>\n",
       "      <td>-1</td>\n",
       "    </tr>\n",
       "    <tr>\n",
       "      <th>importance_type</th>\n",
       "      <td>None</td>\n",
       "    </tr>\n",
       "    <tr>\n",
       "      <th>interaction_constraints</th>\n",
       "      <td></td>\n",
       "    </tr>\n",
       "    <tr>\n",
       "      <th>learning_rate</th>\n",
       "      <td>0.15</td>\n",
       "    </tr>\n",
       "    <tr>\n",
       "      <th>max_delta_step</th>\n",
       "      <td>0</td>\n",
       "    </tr>\n",
       "    <tr>\n",
       "      <th>max_depth</th>\n",
       "      <td>5</td>\n",
       "    </tr>\n",
       "    <tr>\n",
       "      <th>min_child_weight</th>\n",
       "      <td>0</td>\n",
       "    </tr>\n",
       "    <tr>\n",
       "      <th>missing</th>\n",
       "      <td>NaN</td>\n",
       "    </tr>\n",
       "    <tr>\n",
       "      <th>monotone_constraints</th>\n",
       "      <td>()</td>\n",
       "    </tr>\n",
       "    <tr>\n",
       "      <th>n_estimators</th>\n",
       "      <td>1791</td>\n",
       "    </tr>\n",
       "    <tr>\n",
       "      <th>n_jobs</th>\n",
       "      <td>8</td>\n",
       "    </tr>\n",
       "    <tr>\n",
       "      <th>num_parallel_tree</th>\n",
       "      <td>1</td>\n",
       "    </tr>\n",
       "    <tr>\n",
       "      <th>predictor</th>\n",
       "      <td>auto</td>\n",
       "    </tr>\n",
       "    <tr>\n",
       "      <th>random_state</th>\n",
       "      <td>0</td>\n",
       "    </tr>\n",
       "    <tr>\n",
       "      <th>reg_alpha</th>\n",
       "      <td>0</td>\n",
       "    </tr>\n",
       "    <tr>\n",
       "      <th>reg_lambda</th>\n",
       "      <td>1</td>\n",
       "    </tr>\n",
       "    <tr>\n",
       "      <th>scale_pos_weight</th>\n",
       "      <td>None</td>\n",
       "    </tr>\n",
       "    <tr>\n",
       "      <th>subsample</th>\n",
       "      <td>1</td>\n",
       "    </tr>\n",
       "    <tr>\n",
       "      <th>tree_method</th>\n",
       "      <td>hist</td>\n",
       "    </tr>\n",
       "    <tr>\n",
       "      <th>validate_parameters</th>\n",
       "      <td>1</td>\n",
       "    </tr>\n",
       "    <tr>\n",
       "      <th>verbosity</th>\n",
       "      <td>None</td>\n",
       "    </tr>\n",
       "    <tr>\n",
       "      <th>num_class</th>\n",
       "      <td>6</td>\n",
       "    </tr>\n",
       "    <tr>\n",
       "      <th>seed</th>\n",
       "      <td>0</td>\n",
       "    </tr>\n",
       "    <tr>\n",
       "      <th>eval_metric</th>\n",
       "      <td>mlogloss</td>\n",
       "    </tr>\n",
       "  </tbody>\n",
       "</table>\n",
       "</div>"
      ],
      "text/plain": [
       "                                      0\n",
       "objective                multi:softprob\n",
       "use_label_encoder                 False\n",
       "base_score                          0.5\n",
       "booster                          gbtree\n",
       "colsample_bylevel                     1\n",
       "colsample_bynode                      1\n",
       "colsample_bytree                    0.7\n",
       "enable_categorical                False\n",
       "gamma                               0.2\n",
       "gpu_id                               -1\n",
       "importance_type                    None\n",
       "interaction_constraints                \n",
       "learning_rate                      0.15\n",
       "max_delta_step                        0\n",
       "max_depth                             5\n",
       "min_child_weight                      0\n",
       "missing                             NaN\n",
       "monotone_constraints                 ()\n",
       "n_estimators                       1791\n",
       "n_jobs                                8\n",
       "num_parallel_tree                     1\n",
       "predictor                          auto\n",
       "random_state                          0\n",
       "reg_alpha                             0\n",
       "reg_lambda                            1\n",
       "scale_pos_weight                   None\n",
       "subsample                             1\n",
       "tree_method                        hist\n",
       "validate_parameters                   1\n",
       "verbosity                          None\n",
       "num_class                             6\n",
       "seed                                  0\n",
       "eval_metric                    mlogloss"
      ]
     },
     "execution_count": 57,
     "metadata": {},
     "output_type": "execute_result"
    },
    {
     "data": {
      "image/png": "[encoded data removed]",
      "text/plain": [
       "<Figure size 432x288 with 1 Axes>"
      ]
     },
     "metadata": {
      "needs_background": "light"
     },
     "output_type": "display_data"
    }
   ],
   "source": [
    "md = gs6.best_estimator_.get_params()['max_depth']\n",
    "mcw = gs6.best_estimator_.get_params()['min_child_weight']\n",
    "ne = gs6.best_estimator_.get_params()['n_estimators']\n",
    "g = gs6.best_estimator_.get_params()['gamma']\n",
    "subsamp = gs6.best_estimator_.get_params()['subsample']\n",
    "colsamp = gs6.best_estimator_.get_params()['colsample_bytree']\n",
    "lam = gs6.best_estimator_.get_params()['reg_lambda']\n",
    "\n",
    "tuned_est = XGBClassifier(\n",
    "    learning_rate=.15,\n",
    "    n_estimators=100000,\n",
    "    max_depth=md,\n",
    "    min_child_weight=mcw,\n",
    "    gamma=g,\n",
    "    subsample=subsamp,\n",
    "    colsample_bytree=colsamp,\n",
    "    objective='multi:softprob',\n",
    "    num_class=6,\n",
    "    reg_lambda=lam,\n",
    "    seed=0,\n",
    "    tree_method='hist',\n",
    "    eval_metric='mlogloss',\n",
    "    use_label_encoder=False)\n",
    "\n",
    "\n",
    "fit_model(tuned_est, X_trainval, Y_trainval, X_test, Y_test, title='Tuned XGBoost')\n",
    "\n",
    "print('-------- Final Tuned Parameters --------')\n",
    "pd.DataFrame(tuned_est.get_params().values(),\n",
    "             index=tuned_est.get_params().keys())\n"
   ]
  },
  {
   "cell_type": "markdown",
   "metadata": {},
   "source": [
    "## Evaluate Results"
   ]
  },
  {
   "cell_type": "markdown",
   "metadata": {},
   "source": [
    "### Confusion Matrix"
   ]
  },
  {
   "cell_type": "code",
   "execution_count": 68,
   "metadata": {},
   "outputs": [
    {
     "data": {
      "text/plain": [
       "<sklearn.metrics._plot.confusion_matrix.ConfusionMatrixDisplay at 0x15d7666c860>"
      ]
     },
     "execution_count": 68,
     "metadata": {},
     "output_type": "execute_result"
    },
    {
     "data": {
      "image/png": "[encoded data removed]",
      "text/plain": [
       "<Figure size 576x432 with 2 Axes>"
      ]
     },
     "metadata": {
      "needs_background": "light"
     },
     "output_type": "display_data"
    }
   ],
   "source": [
    "plt.figure(figsize=(8,6))\n",
    "ax = plt.axes()\n",
    "skm.ConfusionMatrixDisplay(skm.confusion_matrix(Y_test, Y_test_pred),display_labels=classes).plot(ax=ax)"
   ]
  }
 ],
 "metadata": {
  "interpreter": {
   "hash": "7ccb67de7081a05f54dc297e18d4107ab1f61dedc55f288c5f31e7d83840b6d4"
  },
  "kernelspec": {
   "display_name": "Python 3.7.3 64-bit ('base': conda)",
   "language": "python",
   "name": "python3"
  },
  "language_info": {
   "codemirror_mode": {
    "name": "ipython",
    "version": 3
   },
   "file_extension": ".py",
   "mimetype": "text/x-python",
   "name": "python",
   "nbconvert_exporter": "python",
   "pygments_lexer": "ipython3",
   "version": "3.7.3"
  },
  "orig_nbformat": 4
 },
 "nbformat": 4,
 "nbformat_minor": 2
}
