{
 "cells": [
  {
   "cell_type": "code",
   "execution_count": 23,
   "metadata": {},
   "outputs": [],
   "source": [
    "import pandas as pd\n",
    "\n",
    "# read in all data\n",
    "test = pd.read_csv('../data/test.txt', delimiter=';', names=['text', 'target'])\n",
    "train = pd.read_csv('../data/train.txt', delimiter=';',\n",
    "                    names=['text', 'target'])\n",
    "val = pd.read_csv('../data/val.txt', delimiter=';', names=['text', 'target'])\n",
    "trainval = pd.concat([train,val])\n",
    "testval = pd.concat([test,val])"
   ]
  },
  {
   "cell_type": "code",
   "execution_count": 55,
   "metadata": {},
   "outputs": [
    {
     "name": "stdout",
     "output_type": "stream",
     "text": [
      "Number of Features in BoW:  1999\n"
     ]
    }
   ],
   "source": [
    "import numpy as np\n",
    "from sklearn.feature_extraction.text import CountVectorizer\n",
    "\n",
    "# create vectorier for BoW\n",
    "vectorizer = CountVectorizer(max_df=0.9,min_df=10,stop_words='english')\n",
    "BoW = vectorizer.fit_transform(trainval.text)\n",
    "print('Number of Features in BoW: ',len(vectorizer.get_feature_names()))\n",
    "\n",
    "X_train = BoW.toarray()\n",
    "Y_train = trainval.target\n",
    "X_test = vectorizer.transform(test.text)\n",
    "Y_test = test.target\n"
   ]
  },
  {
   "cell_type": "markdown",
   "metadata": {},
   "source": [
    "## Bagging Classification with DT"
   ]
  },
  {
   "cell_type": "code",
   "execution_count": 52,
   "metadata": {},
   "outputs": [],
   "source": [
    "from sklearn.tree import DecisionTreeClassifier\n",
    "from sklearn.ensemble import BaggingClassifier\n",
    "import sklearn.metrics as skm\n",
    "\n",
    "bag = BaggingClassifier(n_estimators=10, random_state=0)\n",
    "bag.fit(X_train, Y_train)\n",
    "Y_test_pred = bag.predict(X_test)\n",
    "\n",
    "train_acc = bag.score(X_train, Y_train)\n",
    "test_acc = bag.score(X_test, Y_test)\n"
   ]
  },
  {
   "cell_type": "code",
   "execution_count": 54,
   "metadata": {},
   "outputs": [
    {
     "name": "stdout",
     "output_type": "stream",
     "text": [
      "---------------- Bagging Statistics ----------------\n",
      "Train Accuracy: 0.9851\n",
      "Test Accuracy: 0.843\n",
      "              precision    recall  f1-score   support\n",
      "\n",
      "       anger       0.84      0.91      0.87       275\n",
      "        fear       0.83      0.84      0.84       224\n",
      "         joy       0.90      0.81      0.85       695\n",
      "        love       0.69      0.73      0.71       159\n",
      "     sadness       0.87      0.90      0.88       581\n",
      "    surprise       0.58      0.73      0.64        66\n",
      "\n",
      "    accuracy                           0.84      2000\n",
      "   macro avg       0.78      0.82      0.80      2000\n",
      "weighted avg       0.85      0.84      0.84      2000\n",
      "\n"
     ]
    },
    {
     "data": {
      "text/html": [
       "<div>\n",
       "<style scoped>\n",
       "    .dataframe tbody tr th:only-of-type {\n",
       "        vertical-align: middle;\n",
       "    }\n",
       "\n",
       "    .dataframe tbody tr th {\n",
       "        vertical-align: top;\n",
       "    }\n",
       "\n",
       "    .dataframe thead th {\n",
       "        text-align: right;\n",
       "    }\n",
       "</style>\n",
       "<table border=\"1\" class=\"dataframe\">\n",
       "  <thead>\n",
       "    <tr style=\"text-align: right;\">\n",
       "      <th></th>\n",
       "      <th>anger</th>\n",
       "      <th>fear</th>\n",
       "      <th>joy</th>\n",
       "      <th>love</th>\n",
       "      <th>sadness</th>\n",
       "      <th>surprise</th>\n",
       "    </tr>\n",
       "  </thead>\n",
       "  <tbody>\n",
       "    <tr>\n",
       "      <th>anger</th>\n",
       "      <td>249</td>\n",
       "      <td>10</td>\n",
       "      <td>2</td>\n",
       "      <td>1</td>\n",
       "      <td>11</td>\n",
       "      <td>2</td>\n",
       "    </tr>\n",
       "    <tr>\n",
       "      <th>fear</th>\n",
       "      <td>9</td>\n",
       "      <td>189</td>\n",
       "      <td>1</td>\n",
       "      <td>1</td>\n",
       "      <td>9</td>\n",
       "      <td>15</td>\n",
       "    </tr>\n",
       "    <tr>\n",
       "      <th>joy</th>\n",
       "      <td>18</td>\n",
       "      <td>9</td>\n",
       "      <td>562</td>\n",
       "      <td>43</td>\n",
       "      <td>52</td>\n",
       "      <td>11</td>\n",
       "    </tr>\n",
       "    <tr>\n",
       "      <th>love</th>\n",
       "      <td>2</td>\n",
       "      <td>0</td>\n",
       "      <td>37</td>\n",
       "      <td>116</td>\n",
       "      <td>2</td>\n",
       "      <td>2</td>\n",
       "    </tr>\n",
       "    <tr>\n",
       "      <th>sadness</th>\n",
       "      <td>19</td>\n",
       "      <td>11</td>\n",
       "      <td>16</td>\n",
       "      <td>8</td>\n",
       "      <td>522</td>\n",
       "      <td>5</td>\n",
       "    </tr>\n",
       "    <tr>\n",
       "      <th>surprise</th>\n",
       "      <td>1</td>\n",
       "      <td>9</td>\n",
       "      <td>5</td>\n",
       "      <td>0</td>\n",
       "      <td>3</td>\n",
       "      <td>48</td>\n",
       "    </tr>\n",
       "  </tbody>\n",
       "</table>\n",
       "</div>"
      ],
      "text/plain": [
       "          anger  fear  joy  love  sadness  surprise\n",
       "anger       249    10    2     1       11         2\n",
       "fear          9   189    1     1        9        15\n",
       "joy          18     9  562    43       52        11\n",
       "love          2     0   37   116        2         2\n",
       "sadness      19    11   16     8      522         5\n",
       "surprise      1     9    5     0        3        48"
      ]
     },
     "execution_count": 54,
     "metadata": {},
     "output_type": "execute_result"
    }
   ],
   "source": [
    "# get metrics\n",
    "\n",
    "print('---------------- Bagging Statistics ----------------')\n",
    "print('Train Accuracy: {:.4}'.format(train_acc))\n",
    "print('Test Accuracy: {:.4}'.format(test_acc))\n",
    "print(skm.classification_report(Y_test, Y_test_pred))\n",
    "pd.DataFrame(skm.confusion_matrix(Y_test, Y_test_pred), \n",
    "    columns=['anger', 'fear', 'joy', 'love', 'sadness', 'surprise'],\n",
    "             index=['anger', 'fear', 'joy', 'love', 'sadness', 'surprise'])\n"
   ]
  },
  {
   "cell_type": "markdown",
   "metadata": {},
   "source": [
    "## AdaBoost Classification with DT"
   ]
  },
  {
   "cell_type": "code",
   "execution_count": null,
   "metadata": {},
   "outputs": [],
   "source": [
    "from sklearn.ensemble import AdaBoostClassifier\n",
    "import sklearn.metrics as skm\n",
    "\n",
    "ada = AdaBoostClassifier(n_estimators=10, random_state=0)\n",
    "ada.fit(X_train, Y_train)\n",
    "Y_test_pred = ada.predict(X_test)\n",
    "\n",
    "train_acc = ada.score(X_train, Y_train)\n",
    "test_acc = ada.score(X_test, Y_test)\n"
   ]
  },
  {
   "cell_type": "code",
   "execution_count": null,
   "metadata": {},
   "outputs": [],
   "source": [
    "\n",
    "print('---------------- AdaBoost Statistics ----------------')\n",
    "print('Train Accuracy: {:.4}'.format(train_acc))\n",
    "print('Test Accuracy: {:.4}'.format(test_acc))\n",
    "print(skm.classification_report(Y_test, Y_test_pred))\n",
    "pd.DataFrame(skm.confusion_matrix(Y_test, Y_test_pred),\n",
    "             columns=['anger', 'fear', 'joy', 'love', 'sadness', 'surprise'],\n",
    "             index=['anger', 'fear', 'joy', 'love', 'sadness', 'surprise'])\n"
   ]
  }
 ],
 "metadata": {
  "interpreter": {
   "hash": "7ccb67de7081a05f54dc297e18d4107ab1f61dedc55f288c5f31e7d83840b6d4"
  },
  "kernelspec": {
   "display_name": "Python 3.7.3 64-bit ('base': conda)",
   "name": "python3"
  },
  "language_info": {
   "codemirror_mode": {
    "name": "ipython",
    "version": 3
   },
   "file_extension": ".py",
   "mimetype": "text/x-python",
   "name": "python",
   "nbconvert_exporter": "python",
   "pygments_lexer": "ipython3",
   "version": "3.7.3"
  },
  "orig_nbformat": 4
 },
 "nbformat": 4,
 "nbformat_minor": 2
}
