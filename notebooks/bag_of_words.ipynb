{
 "cells": [
  {
   "cell_type": "code",
   "execution_count": 2,
   "metadata": {},
   "outputs": [],
   "source": [
    "import pandas as pd\n",
    "\n",
    "# read in all data\n",
    "test = pd.read_csv('../data/test.txt', delimiter=';', names=['text', 'target'])\n",
    "train = pd.read_csv('../data/train.txt', delimiter=';',\n",
    "                    names=['text', 'target'])\n",
    "val = pd.read_csv('../data/val.txt', delimiter=';', names=['text', 'target'])\n",
    "trainval = pd.concat([train,val])\n",
    "testval = pd.concat([test,val])"
   ]
  },
  {
   "cell_type": "code",
   "execution_count": null,
   "metadata": {},
   "outputs": [],
   "source": [
    "import numpy as np\n",
    "from sklearn.feature_extraction.text import CountVectorizer\n",
    "\n",
    "# create vectorier for BoW\n",
    "vectorizer = CountVectorizer(max_df=0.9,min_df=5,stop_words='english',ngram_range=(1,1))\n",
    "BoW = vectorizer.fit_transform(trainval.text)\n",
    "print('Number of Features in BoW: ',len(vectorizer.get_feature_names()))\n",
    "\n",
    "X_trainval = vectorizer.transform(trainval.text).toarray()\n",
    "Y_trainval = trainval.target\n",
    "X_train = vectorizer.transform(train.text).toarray()\n",
    "Y_train = train.target\n",
    "X_val = vectorizer.transform(val.text).toarray()\n",
    "Y_val = val.target\n",
    "X_test = vectorizer.transform(test.text).toarray()\n",
    "Y_test = test.target\n"
   ]
  },
  {
   "cell_type": "code",
   "execution_count": null,
   "metadata": {},
   "outputs": [],
   "source": [
    "\"\"\" from sklearn.svm import SVC\n",
    "from sklearn.model_selection import cross_val_score\n",
    "import numpy as np\n",
    "\n",
    "C_array = np.array([0.1, 1, 5])\n",
    "Gamma_array = np.array([0.1, 1, 5])\n",
    "best_C = 0; best_gamma = 0\n",
    "best_acc = 0\n",
    "best_model = None\n",
    "\n",
    "for C in C_array:\n",
    "    for gamma in Gamma_array:\n",
    "        model = SVC(C=C, gamma=gamma, kernel='rbf', decision_function_shape='ovr', class_weight='balanced')\n",
    "        score = cross_val_score(model, X_trainval, Y_trainval, cv=3)\n",
    "        print(f'C = {C}, gamma = {gamma}, score = {score}')\n",
    "        if best_acc < score.mean():\n",
    "            best_C = C\n",
    "            best_gamma = gamma\n",
    "            best_acc = score.mean()\n",
    "            best_model = model\n",
    "\n",
    "Y_test_pred = best_model.predict(X_test)\n",
    "#train_acc = model.score(X_train, Y_train)\n",
    "#test_acc = model.score(X_test, Y_test)\n",
    "\n",
    "#print('Train Accuracy: {:.4}'.format(train_acc))\n",
    "#print('Test Accuracy: {:.4}'.format(test_acc)) \"\"\"\n"
   ]
  },
  {
   "cell_type": "code",
   "execution_count": null,
   "metadata": {},
   "outputs": [],
   "source": [
    "import sklearn.metrics as skm\n",
    "\n",
    "print(skm.classification_report(Y_test, Y_test_pred))\n",
    "pd.DataFrame(skm.confusion_matrix(Y_test, Y_test_pred),\n",
    "             columns=['anger', 'fear', 'joy', 'love', 'sadness', 'surprise'],\n",
    "             index=['anger', 'fear', 'joy', 'love', 'sadness', 'surprise'])\n"
   ]
  },
  {
   "cell_type": "markdown",
   "metadata": {},
   "source": [
    "## Bagging Classification with DT"
   ]
  },
  {
   "cell_type": "code",
   "execution_count": null,
   "metadata": {},
   "outputs": [],
   "source": [
    "from sklearn.tree import DecisionTreeClassifier\n",
    "from sklearn.ensemble import BaggingClassifier\n",
    "import sklearn.metrics as skm\n",
    "\n",
    "bag = BaggingClassifier(n_estimators=10, random_state=0)\n",
    "bag.fit(X_train, Y_train)\n",
    "Y_test_pred = bag.predict(X_test)\n",
    "\n",
    "train_acc = bag.score(X_train, Y_train)\n",
    "test_acc = bag.score(X_test, Y_test)\n"
   ]
  },
  {
   "cell_type": "code",
   "execution_count": null,
   "metadata": {},
   "outputs": [],
   "source": [
    "# get metrics\n",
    "\n",
    "print('---------------- Bagging Statistics ----------------')\n",
    "print('Train Accuracy: {:.4}'.format(train_acc))\n",
    "print('Test Accuracy: {:.4}'.format(test_acc))\n",
    "print(skm.classification_report(Y_test, Y_test_pred))\n",
    "pd.DataFrame(skm.confusion_matrix(Y_test, Y_test_pred), \n",
    "    columns=['anger', 'fear', 'joy', 'love', 'sadness', 'surprise'],\n",
    "             index=['anger', 'fear', 'joy', 'love', 'sadness', 'surprise'])\n"
   ]
  },
  {
   "cell_type": "markdown",
   "metadata": {},
   "source": [
    "## Random Forest with DT"
   ]
  },
  {
   "cell_type": "code",
   "execution_count": null,
   "metadata": {},
   "outputs": [],
   "source": [
    "from sklearn.ensemble import RandomForestClassifier\n",
    "import sklearn.metrics as skm\n",
    "\n",
    "rf = RandomForestClassifier(n_estimators=10, random_state=0)\n",
    "rf.fit(X_train, Y_train)\n",
    "Y_test_pred = rf.predict(X_test)\n",
    "\n",
    "train_acc = rf.score(X_train, Y_train)\n",
    "test_acc = rf.score(X_test, Y_test)\n"
   ]
  },
  {
   "cell_type": "code",
   "execution_count": null,
   "metadata": {},
   "outputs": [],
   "source": [
    "print('------------- Random Forest Statistics -------------')\n",
    "print('Train Accuracy: {:.4}'.format(train_acc))\n",
    "print('Test Accuracy: {:.4}'.format(test_acc))\n",
    "print(skm.classification_report(Y_test, Y_test_pred))\n",
    "pd.DataFrame(skm.confusion_matrix(Y_test, Y_test_pred),\n",
    "             columns=['anger', 'fear', 'joy', 'love', 'sadness', 'surprise'],\n",
    "             index=['anger', 'fear', 'joy', 'love', 'sadness', 'surprise'])"
   ]
  },
  {
   "cell_type": "markdown",
   "metadata": {},
   "source": [
    "## AdaBoost Classification with DT"
   ]
  },
  {
   "cell_type": "code",
   "execution_count": null,
   "metadata": {},
   "outputs": [],
   "source": [
    "from sklearn.ensemble import AdaBoostClassifier\n",
    "import sklearn.metrics as skm\n",
    "\n",
    "ada = AdaBoostClassifier(n_estimators=1000, random_state=0)\n",
    "ada.fit(X_train, Y_train)\n",
    "Y_test_pred = ada.predict(X_test)\n",
    "\n",
    "train_acc = ada.score(X_train, Y_train)\n",
    "test_acc = ada.score(X_test, Y_test)\n"
   ]
  },
  {
   "cell_type": "code",
   "execution_count": null,
   "metadata": {},
   "outputs": [],
   "source": [
    "\n",
    "print('---------------- AdaBoost Statistics ----------------')\n",
    "print('Train Accuracy: {:.4}'.format(train_acc))\n",
    "print('Test Accuracy: {:.4}'.format(test_acc))\n",
    "print(skm.classification_report(Y_test, Y_test_pred))\n",
    "pd.DataFrame(skm.confusion_matrix(Y_test, Y_test_pred),\n",
    "             columns=['anger', 'fear', 'joy', 'love', 'sadness', 'surprise'],\n",
    "             index=['anger', 'fear', 'joy', 'love', 'sadness', 'surprise'])\n"
   ]
  },
  {
   "cell_type": "markdown",
   "metadata": {},
   "source": [
    "## Detailed Analysis and Fine Tuning \n",
    "**Random Forrest** showed the most promising initial results. In this section we fine tune parameters and perform additional evaluation of the model and its performance."
   ]
  },
  {
   "cell_type": "markdown",
   "metadata": {},
   "source": [
    "### BoW Generation and Dataset Transformation\n",
    "We duplicate here from above for additional testing and tuning if required."
   ]
  },
  {
   "cell_type": "code",
   "execution_count": 4,
   "metadata": {},
   "outputs": [
    {
     "name": "stdout",
     "output_type": "stream",
     "text": [
      "Number of Features in BoW:  3398\n"
     ]
    }
   ],
   "source": [
    "import numpy as np\n",
    "from sklearn.feature_extraction.text import CountVectorizer\n",
    "from sklearn.preprocessing import LabelEncoder\n",
    "\n",
    "# create vectorier for BoW\n",
    "vectorizer = CountVectorizer(max_df=0.9, min_df=5, stop_words='english', ngram_range=(1, 1))\n",
    "BoW = vectorizer.fit_transform(trainval.text)\n",
    "print('Number of Features in BoW: ', len(vectorizer.get_feature_names_out()))\n",
    "\n",
    "enc = LabelEncoder().fit(['anger', 'fear', 'joy', 'love', 'sadness', 'surprise'])\n",
    "\n",
    "# transform all the data\n",
    "X_trainval = vectorizer.transform(trainval.text).toarray()\n",
    "Y_trainval = enc.transform(trainval.target)\n",
    "X_train = vectorizer.transform(train.text).toarray()\n",
    "Y_train = enc.transform(train.target)\n",
    "X_val = vectorizer.transform(val.text).toarray()\n",
    "Y_val = enc.transform(val.target)\n",
    "X_test = vectorizer.transform(test.text).toarray()\n",
    "Y_test = enc.transform(test.target)\n",
    "\n",
    "\n"
   ]
  },
  {
   "cell_type": "markdown",
   "metadata": {},
   "source": [
    "### Multiclass ROC Curve Function\n",
    "Function to generate a multiclass ROC plot. We'll use this for further evaluation."
   ]
  },
  {
   "cell_type": "code",
   "execution_count": 5,
   "metadata": {},
   "outputs": [],
   "source": [
    "import matplotlib.pyplot as plt\n",
    "from sklearn.metrics import roc_curve\n",
    "from sklearn.metrics import auc\n",
    "from itertools import cycle\n",
    "from sklearn.metrics import RocCurveDisplay\n",
    "\n",
    "classes = ['anger', 'fear', 'joy', 'love', 'sadness', 'surprise']\n",
    "\n",
    "def plot_mc_roc(Y_test_bin, Y_test_proba, n_classes, title='ROC Curve'):\n",
    "    ax = plt.axes()\n",
    "    leg = []\n",
    "    for i in range(n_classes):\n",
    "        y_score = Y_test_proba[:, i]\n",
    "        fpr, tpr, _ = roc_curve(Y_test_bin[:, i], y_score)\n",
    "        roc_auc = auc(fpr, tpr)\n",
    "        leg.append(classes[i] + ' (auc = {:.4})'.format(roc_auc))\n",
    "        RocCurveDisplay(fpr=fpr, tpr=tpr).plot(ax=ax)\n",
    "\n",
    "    plt.xlim((0, .4))\n",
    "    plt.ylim((.6, 1))\n",
    "    plt.legend(leg)\n",
    "    plt.title(title)\n"
   ]
  },
  {
   "cell_type": "code",
   "execution_count": 6,
   "metadata": {},
   "outputs": [
    {
     "name": "stdout",
     "output_type": "stream",
     "text": [
      "              precision    recall  f1-score   support\n",
      "\n",
      "           0       0.89      0.90      0.89       275\n",
      "           1       0.84      0.85      0.85       224\n",
      "           2       0.91      0.88      0.90       695\n",
      "           3       0.73      0.75      0.74       159\n",
      "           4       0.92      0.92      0.92       581\n",
      "           5       0.62      0.73      0.67        66\n",
      "\n",
      "    accuracy                           0.88      2000\n",
      "   macro avg       0.82      0.84      0.83      2000\n",
      "weighted avg       0.88      0.88      0.88      2000\n",
      "\n"
     ]
    },
    {
     "data": {
      "text/html": [
       "<div>\n",
       "<style scoped>\n",
       "    .dataframe tbody tr th:only-of-type {\n",
       "        vertical-align: middle;\n",
       "    }\n",
       "\n",
       "    .dataframe tbody tr th {\n",
       "        vertical-align: top;\n",
       "    }\n",
       "\n",
       "    .dataframe thead th {\n",
       "        text-align: right;\n",
       "    }\n",
       "</style>\n",
       "<table border=\"1\" class=\"dataframe\">\n",
       "  <thead>\n",
       "    <tr style=\"text-align: right;\">\n",
       "      <th></th>\n",
       "      <th>anger</th>\n",
       "      <th>fear</th>\n",
       "      <th>joy</th>\n",
       "      <th>love</th>\n",
       "      <th>sadness</th>\n",
       "      <th>surprise</th>\n",
       "    </tr>\n",
       "  </thead>\n",
       "  <tbody>\n",
       "    <tr>\n",
       "      <th>anger</th>\n",
       "      <td>247</td>\n",
       "      <td>11</td>\n",
       "      <td>5</td>\n",
       "      <td>1</td>\n",
       "      <td>10</td>\n",
       "      <td>1</td>\n",
       "    </tr>\n",
       "    <tr>\n",
       "      <th>fear</th>\n",
       "      <td>8</td>\n",
       "      <td>191</td>\n",
       "      <td>0</td>\n",
       "      <td>1</td>\n",
       "      <td>10</td>\n",
       "      <td>14</td>\n",
       "    </tr>\n",
       "    <tr>\n",
       "      <th>joy</th>\n",
       "      <td>5</td>\n",
       "      <td>6</td>\n",
       "      <td>614</td>\n",
       "      <td>35</td>\n",
       "      <td>24</td>\n",
       "      <td>11</td>\n",
       "    </tr>\n",
       "    <tr>\n",
       "      <th>love</th>\n",
       "      <td>2</td>\n",
       "      <td>0</td>\n",
       "      <td>35</td>\n",
       "      <td>119</td>\n",
       "      <td>1</td>\n",
       "      <td>2</td>\n",
       "    </tr>\n",
       "    <tr>\n",
       "      <th>sadness</th>\n",
       "      <td>15</td>\n",
       "      <td>10</td>\n",
       "      <td>13</td>\n",
       "      <td>6</td>\n",
       "      <td>535</td>\n",
       "      <td>2</td>\n",
       "    </tr>\n",
       "    <tr>\n",
       "      <th>surprise</th>\n",
       "      <td>1</td>\n",
       "      <td>9</td>\n",
       "      <td>6</td>\n",
       "      <td>0</td>\n",
       "      <td>2</td>\n",
       "      <td>48</td>\n",
       "    </tr>\n",
       "  </tbody>\n",
       "</table>\n",
       "</div>"
      ],
      "text/plain": [
       "          anger  fear  joy  love  sadness  surprise\n",
       "anger       247    11    5     1       10         1\n",
       "fear          8   191    0     1       10        14\n",
       "joy           5     6  614    35       24        11\n",
       "love          2     0   35   119        1         2\n",
       "sadness      15    10   13     6      535         2\n",
       "surprise      1     9    6     0        2        48"
      ]
     },
     "execution_count": 6,
     "metadata": {},
     "output_type": "execute_result"
    }
   ],
   "source": [
    "from sklearn.ensemble import RandomForestClassifier\n",
    "import sklearn.metrics as skm\n",
    "import matplotlib.pyplot as plt\n",
    "\n",
    "rf = RandomForestClassifier(n_estimators=10, random_state=0)\n",
    "rf.fit(X_trainval, Y_trainval)\n",
    "Y_test_pred = rf.predict(X_test)\n",
    "print(skm.classification_report(Y_test, Y_test_pred))\n",
    "pd.DataFrame(skm.confusion_matrix(Y_test, Y_test_pred),columns=classes, index=classes)"
   ]
  },
  {
   "cell_type": "markdown",
   "metadata": {},
   "source": [
    "**plot ROC curve for un-tuned Random Forrest Classifier**"
   ]
  },
  {
   "cell_type": "code",
   "execution_count": 7,
   "metadata": {},
   "outputs": [
    {
     "ename": "NameError",
     "evalue": "name 'RocCurveDisplay' is not defined",
     "output_type": "error",
     "traceback": [
      "\u001b[1;31m---------------------------------------------------------------------------\u001b[0m",
      "\u001b[1;31mNameError\u001b[0m                                 Traceback (most recent call last)",
      "\u001b[1;32m<ipython-input-7-038e36d70b5f>\u001b[0m in \u001b[0;36m<module>\u001b[1;34m\u001b[0m\n\u001b[0;32m      3\u001b[0m \u001b[0mY_test_bin\u001b[0m \u001b[1;33m=\u001b[0m \u001b[0mlabel_binarize\u001b[0m\u001b[1;33m(\u001b[0m\u001b[0mY_test\u001b[0m\u001b[1;33m,\u001b[0m \u001b[0mclasses\u001b[0m\u001b[1;33m=\u001b[0m\u001b[1;33m[\u001b[0m\u001b[1;36m0\u001b[0m\u001b[1;33m,\u001b[0m \u001b[1;36m1\u001b[0m\u001b[1;33m,\u001b[0m \u001b[1;36m2\u001b[0m\u001b[1;33m,\u001b[0m \u001b[1;36m3\u001b[0m\u001b[1;33m,\u001b[0m \u001b[1;36m4\u001b[0m\u001b[1;33m,\u001b[0m \u001b[1;36m5\u001b[0m\u001b[1;33m]\u001b[0m\u001b[1;33m)\u001b[0m\u001b[1;33m\u001b[0m\u001b[1;33m\u001b[0m\u001b[0m\n\u001b[0;32m      4\u001b[0m \u001b[0mY_test_proba\u001b[0m \u001b[1;33m=\u001b[0m \u001b[0mrf\u001b[0m\u001b[1;33m.\u001b[0m\u001b[0mpredict_proba\u001b[0m\u001b[1;33m(\u001b[0m\u001b[0mX_test\u001b[0m\u001b[1;33m)\u001b[0m\u001b[1;33m\u001b[0m\u001b[1;33m\u001b[0m\u001b[0m\n\u001b[1;32m----> 5\u001b[1;33m \u001b[0mplot_mc_roc\u001b[0m\u001b[1;33m(\u001b[0m\u001b[0mY_test_bin\u001b[0m\u001b[1;33m,\u001b[0m \u001b[0mY_test_proba\u001b[0m\u001b[1;33m,\u001b[0m \u001b[0mn_classes\u001b[0m\u001b[1;33m=\u001b[0m\u001b[1;36m6\u001b[0m\u001b[1;33m,\u001b[0m \u001b[0mtitle\u001b[0m\u001b[1;33m=\u001b[0m\u001b[1;34m'ROC for un-tuned Random Forrest (one-vs-all)'\u001b[0m\u001b[1;33m)\u001b[0m\u001b[1;33m\u001b[0m\u001b[1;33m\u001b[0m\u001b[0m\n\u001b[0m",
      "\u001b[1;32m<ipython-input-5-df7acdc57779>\u001b[0m in \u001b[0;36mplot_mc_roc\u001b[1;34m(Y_test_bin, Y_test_proba, n_classes, title)\u001b[0m\n\u001b[0;32m     14\u001b[0m         \u001b[0mroc_auc\u001b[0m \u001b[1;33m=\u001b[0m \u001b[0mauc\u001b[0m\u001b[1;33m(\u001b[0m\u001b[0mfpr\u001b[0m\u001b[1;33m,\u001b[0m \u001b[0mtpr\u001b[0m\u001b[1;33m)\u001b[0m\u001b[1;33m\u001b[0m\u001b[1;33m\u001b[0m\u001b[0m\n\u001b[0;32m     15\u001b[0m         \u001b[0mleg\u001b[0m\u001b[1;33m.\u001b[0m\u001b[0mappend\u001b[0m\u001b[1;33m(\u001b[0m\u001b[0mclasses\u001b[0m\u001b[1;33m[\u001b[0m\u001b[0mi\u001b[0m\u001b[1;33m]\u001b[0m \u001b[1;33m+\u001b[0m \u001b[1;34m' (auc = {:.4})'\u001b[0m\u001b[1;33m.\u001b[0m\u001b[0mformat\u001b[0m\u001b[1;33m(\u001b[0m\u001b[0mroc_auc\u001b[0m\u001b[1;33m)\u001b[0m\u001b[1;33m)\u001b[0m\u001b[1;33m\u001b[0m\u001b[1;33m\u001b[0m\u001b[0m\n\u001b[1;32m---> 16\u001b[1;33m         \u001b[0mRocCurveDisplay\u001b[0m\u001b[1;33m(\u001b[0m\u001b[0mfpr\u001b[0m\u001b[1;33m=\u001b[0m\u001b[0mfpr\u001b[0m\u001b[1;33m,\u001b[0m \u001b[0mtpr\u001b[0m\u001b[1;33m=\u001b[0m\u001b[0mtpr\u001b[0m\u001b[1;33m)\u001b[0m\u001b[1;33m.\u001b[0m\u001b[0mplot\u001b[0m\u001b[1;33m(\u001b[0m\u001b[0max\u001b[0m\u001b[1;33m=\u001b[0m\u001b[0max\u001b[0m\u001b[1;33m)\u001b[0m\u001b[1;33m\u001b[0m\u001b[1;33m\u001b[0m\u001b[0m\n\u001b[0m\u001b[0;32m     17\u001b[0m \u001b[1;33m\u001b[0m\u001b[0m\n\u001b[0;32m     18\u001b[0m     \u001b[0mplt\u001b[0m\u001b[1;33m.\u001b[0m\u001b[0mxlim\u001b[0m\u001b[1;33m(\u001b[0m\u001b[1;33m(\u001b[0m\u001b[1;36m0\u001b[0m\u001b[1;33m,\u001b[0m \u001b[1;36m.4\u001b[0m\u001b[1;33m)\u001b[0m\u001b[1;33m)\u001b[0m\u001b[1;33m\u001b[0m\u001b[1;33m\u001b[0m\u001b[0m\n",
      "\u001b[1;31mNameError\u001b[0m: name 'RocCurveDisplay' is not defined"
     ]
    },
    {
     "data": {
      "image/png": "[encoded data removed]",
      "text/plain": [
       "<Figure size 432x288 with 1 Axes>"
      ]
     },
     "metadata": {
      "needs_background": "light"
     },
     "output_type": "display_data"
    }
   ],
   "source": [
    "from sklearn.preprocessing import label_binarize\n",
    "\n",
    "Y_test_bin = label_binarize(Y_test, classes=[0, 1, 2, 3, 4, 5])\n",
    "Y_test_proba = rf.predict_proba(X_test)\n",
    "plot_mc_roc(Y_test_bin, Y_test_proba, n_classes=6, title='ROC for un-tuned Random Forrest (one-vs-all)')"
   ]
  },
  {
   "cell_type": "markdown",
   "metadata": {},
   "source": [
    "### N-Estimators Evaluation\n",
    "Evaluating random forrest performance as the number of estimator trees is changed."
   ]
  },
  {
   "cell_type": "code",
   "execution_count": null,
   "metadata": {},
   "outputs": [
    {
     "data": {
      "text/plain": [
       "<matplotlib.legend.Legend at 0x1c00381b748>"
      ]
     },
     "execution_count": 65,
     "metadata": {},
     "output_type": "execute_result"
    },
    {
     "data": {
      "image/png": "[encoded data removed]",
      "text/plain": [
       "<Figure size 432x288 with 1 Axes>"
      ]
     },
     "metadata": {
      "needs_background": "light"
     },
     "output_type": "display_data"
    }
   ],
   "source": [
    "from sklearn.ensemble import RandomForestClassifier\n",
    "from sklearn.metrics import f1_score\n",
    "import matplotlib.pyplot as plt\n",
    "\n",
    "train_F1 = []\n",
    "test_F1 = []\n",
    "ne_samps = [1, 2, 3, 5, 7, 10, 15, 25, 50, 100]\n",
    "for ne in ne_samps:\n",
    "    rf = RandomForestClassifier(n_estimators=ne, random_state=0)\n",
    "    rf.fit(X_trainval, Y_trainval)\n",
    "    Y_test_pred = rf.predict(X_test)\n",
    "    Y_train_pred = rf.predict(X_trainval)\n",
    "    train_F1.append(f1_score(Y_trainval, Y_train_pred, average='macro'))\n",
    "    test_F1.append(f1_score(Y_test, Y_test_pred, average='macro'))\n",
    "\n",
    "plt.xlabel('N-Estimators')\n",
    "plt.ylabel('Macro F1-Score')\n",
    "plt.title('F1-Score vs. N-Estimators')\n",
    "plt.plot(ne_samps, train_F1)\n",
    "plt.plot(ne_samps, test_F1)\n",
    "plt.legend(['Train','Test'])"
   ]
  },
  {
   "cell_type": "markdown",
   "metadata": {},
   "source": [
    "### Max Features Evaluation"
   ]
  },
  {
   "cell_type": "code",
   "execution_count": null,
   "metadata": {},
   "outputs": [],
   "source": [
    "from sklearn.ensemble import RandomForestClassifier\n",
    "from sklearn.metrics import f1_score\n",
    "import matplotlib.pyplot as plt\n",
    "\n",
    "train_F1 = []\n",
    "test_F1 = []\n",
    "mf_samps = [1, 5, 10, 25, 50, 100, 150, 200]\n",
    "for mf in mf_samps:\n",
    "    rf = RandomForestClassifier(n_estimators=25, max_features=mf, random_state=0)\n",
    "    rf.fit(X_trainval, Y_trainval)\n",
    "    Y_test_pred = rf.predict(X_test)\n",
    "    Y_train_pred = rf.predict(X_trainval)\n",
    "    train_F1.append(f1_score(Y_trainval, Y_train_pred, average='macro'))\n",
    "    test_F1.append(f1_score(Y_test, Y_test_pred, average='macro'))\n",
    "\n",
    "plt.xlabel('N-Estimators')\n",
    "plt.ylabel('Macro F1-Score')\n",
    "plt.title('F1-Score vs. N-Estimators')\n",
    "plt.plot(mf_samps, train_F1)\n",
    "plt.plot(mf_samps, test_F1)\n",
    "plt.legend(['Train', 'Test'])\n"
   ]
  }
 ],
 "metadata": {
  "interpreter": {
   "hash": "7ccb67de7081a05f54dc297e18d4107ab1f61dedc55f288c5f31e7d83840b6d4"
  },
  "kernelspec": {
   "display_name": "Python 3.7.3 64-bit ('base': conda)",
   "name": "python3"
  },
  "language_info": {
   "codemirror_mode": {
    "name": "ipython",
    "version": 3
   },
   "file_extension": ".py",
   "mimetype": "text/x-python",
   "name": "python",
   "nbconvert_exporter": "python",
   "pygments_lexer": "ipython3",
   "version": "3.7.3"
  },
  "orig_nbformat": 4
 },
 "nbformat": 4,
 "nbformat_minor": 2
}
